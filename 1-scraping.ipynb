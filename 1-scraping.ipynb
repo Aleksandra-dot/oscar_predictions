{
 "cells": [
  {
   "attachments": {},
   "cell_type": "markdown",
   "metadata": {},
   "source": [
    "# 1-Scraping Wikipedia for Various Awards Show Winners\n",
    "- Using the theory that previous winners may be indicative of Oscar wins, I look at various awards shows to find winners\n",
    "- This code is inspired heavily by Github User Buzdygan, and I owe my scraping success to him\n",
    "- The code is merged into my ML table in table_assembling.ipynb"
   ]
  },
  {
   "cell_type": "code",
   "execution_count": 1,
   "metadata": {},
   "outputs": [],
   "source": [
    "import requests as rq\n",
    "import re\n",
    "import datetime\n",
    "import traceback\n",
    "from collections import Counter\n",
    "from bs4 import BeautifulSoup\n",
    "import pandas as pd\n",
    "import requests\n",
    "import os\n",
    "import codecs\n",
    "import lxml"
   ]
  },
  {
   "attachments": {},
   "cell_type": "markdown",
   "metadata": {},
   "source": [
    "## Oscar DataFrame (Best Picture Only)"
   ]
  },
  {
   "cell_type": "code",
   "execution_count": 2,
   "metadata": {},
   "outputs": [],
   "source": [
    "oscar_soup = BeautifulSoup(rq.get('https://en.wikipedia.org/wiki/Academy_Award_for_Best_Picture').text, 'lxml')\n",
    "\n",
    "oscar_results = []\n",
    "current_year = 1\n",
    "#itearate through all table tags in html that have class 'wikitable'\n",
    "for table in oscar_soup.find_all('table', {'class': 'wikitable'}):\n",
    "    #iterate thorugh rows skipping table headers\n",
    "    for row in table.find_all('tr')[1:]:\n",
    "        #each table data element in a row represents a column\n",
    "        columns = row.find_all('td')\n",
    "        #row of just one column conatins a year the following list corresponds to\n",
    "        if len(columns) == 1:\n",
    "            #the value in the cell is transformed into int and assigned to current_year\n",
    "            current_year = int(re.search('[\\d]{4}', columns[0].text).group(0))\n",
    "        # if only two columns row has info about a single winner\n",
    "        elif len(columns) == 2:\n",
    "            #name of the film in first column\n",
    "            film_col = columns[0]\n",
    "            #this is a background used by wiki to indicate a winner\n",
    "            if row.get('style') == 'background:#FAEB86':\n",
    "                winner = True\n",
    "            else:\n",
    "                winner = False\n",
    "            #this line tries to extract title and url from a element and append those to a list\n",
    "            try:\n",
    "                a = film_col.find('i').find('a')\n",
    "                title = a.get('title')\n",
    "                title_bare = title.split('(')[0]\n",
    "                oscar_results.append((current_year, title_bare, a.get('href'), winner))\n",
    "            except:\n",
    "                traceback.print_exc()\n",
    "        else:\n",
    "            continue\n",
    "\n",
    "pd.DataFrame(oscar_results, columns = ['year','film','wiki','winner']).to_csv('./data/scraping_results/osc_bp.csv', index = False)"
   ]
  },
  {
   "attachments": {},
   "cell_type": "markdown",
   "metadata": {},
   "source": [
    "# Oscar Nomination Count"
   ]
  },
  {
   "cell_type": "code",
   "execution_count": 23,
   "metadata": {},
   "outputs": [],
   "source": [
    "# This table only includes films which have won at least one award\n",
    "url = 'https://en.wikipedia.org/wiki/List_of_Academy_Award-winning_films'\n",
    "page = requests.get(url, 'lxml')\n",
    "nom_soup = BeautifulSoup(page.content)\n",
    "tables = nom_soup.findAll(\"table\", {\"class\": \"wikitable\"})\n",
    "\n",
    "# Extract wikipedia names\n",
    "for table in tables:\n",
    "    links = table.findAll('a')\n",
    "    t = pd.read_html(table.prettify())\n",
    "    titles_text, titles, hrefs = [],[],[]\n",
    "    for link in links:\n",
    "        titles.append(link.get('title'))\n",
    "        titles_text.append(link.text)\n",
    "        hrefs.append(link.get('href'))\n",
    "        \n",
    "# Prepare bs4 dataFrame for merge\n",
    "#this no_no variable is set to filter out all a elements that are links to wiki pages such as 2022 in film\n",
    "no_no = 'in film'\n",
    "col_names = ['Film','film','wiki']\n",
    "to_scrape_df = pd.DataFrame([(titles_text[i],titles[i],hrefs[i]) for i in range(len(titles)) if no_no not in str(titles[i])], columns = col_names)\n",
    "to_scrape_df = to_scrape_df.groupby('Film').max().reset_index() # removes repeats\n",
    "# Prepare pd table for merge\n",
    "def remove_parens(x):\n",
    "    return x.split('(')[0].strip()\n",
    "\n",
    "#clean up the first column of t DF which is generated from the first table in each tables in the tables list\n",
    "t[0]['film_clean'] = t[0]['Film'].apply(remove_parens)\n",
    "t[0]['film_dirty'] = t[0]['Film']\n",
    "t[0]['Film'] = t[0]['film_clean']\n",
    "t[0] = t[0].groupby('Film').max().reset_index()\n",
    "\n",
    "def remove_bracks(x):\n",
    "    return int(x.split('[')[0].strip())\n",
    "\n",
    "# Merge to get nominations and various name permutations\n",
    "ml_df = pd.merge(to_scrape_df, t[0], on = 'Film', how = 'inner')[['Year','film','wiki','Nominations','Film']]\n",
    "ml_df['Nominations'] = ml_df['Nominations'].apply(remove_bracks)\n",
    "col_list = ['year','film_dirty','wiki','nominations','film']\n",
    "ml_df.columns = col_list\n",
    "col_list[1], col_list[4] = col_list[4], col_list[1]\n",
    "ml_df = ml_df[col_list]\n",
    "ml_df = ml_df.drop('film_dirty', axis=1)\n",
    "ml_df.to_csv('./data/scraping_results/noms.csv', index = False)"
   ]
  },
  {
   "attachments": {},
   "cell_type": "markdown",
   "metadata": {},
   "source": [
    "# Directors Guild Awards"
   ]
  },
  {
   "cell_type": "code",
   "execution_count": 10,
   "metadata": {},
   "outputs": [],
   "source": [
    "dga_soup = BeautifulSoup(rq.get('https://en.wikipedia.org/wiki/Directors_Guild_of_America_Award_for_Outstanding_Directing_%E2%80%93_Feature_Film').text, 'lxml')"
   ]
  },
  {
   "cell_type": "code",
   "execution_count": 11,
   "metadata": {},
   "outputs": [],
   "source": [
    "dga_results = []\n",
    "current_year = 1\n",
    "for table in dga_soup.find_all('table', {'class': 'wikitable'}):\n",
    "    for row in table.find_all('tr')[1:]:\n",
    "        columns = row.find_all('td')\n",
    "        if len(columns) == 4:\n",
    "            current_year = int(re.search('[\\d]{4}', columns[0].text).group(0))\n",
    "            film_col = columns[2]\n",
    "        else:\n",
    "            film_col = columns[1]\n",
    "        if columns[1].get('style') == 'background:#FAEB86;':\n",
    "            winner = True\n",
    "        else:\n",
    "            winner = False\n",
    "        try:\n",
    "            a = film_col.find('i').find('a')\n",
    "            dga_results.append((current_year, a.get('title'), a.get('href'), winner))\n",
    "        except:\n",
    "            print(f\"Problem with {row}\")\n",
    "            traceback.print_exc()\n",
    "pd.DataFrame(dga_results, columns = ['year','film','wiki','winner']).to_csv('./data/scraping_results/dgas.csv', index = False)"
   ]
  },
  {
   "attachments": {},
   "cell_type": "markdown",
   "metadata": {},
   "source": [
    "# BAFTAs"
   ]
  },
  {
   "cell_type": "code",
   "execution_count": 12,
   "metadata": {},
   "outputs": [],
   "source": [
    "bafta_soup = BeautifulSoup(rq.get('https://en.wikipedia.org/wiki/BAFTA_Award_for_Best_Film').text, 'lxml')\n",
    "# here the code is a bit different because year in not stored in <tr> with one <td> but in <tr> with 5 <td> in a first <td> \n",
    "bafta_results = []\n",
    "current_year = 1\n",
    "for table in bafta_soup.find_all('table', {'class': 'wikitable'})[2:]:\n",
    "    year = 1947\n",
    "    for row in table.find_all('tr')[1:]:\n",
    "        columns = row.find_all('td')\n",
    "        if len(columns) == 1:\n",
    "            # check if year is in this td element or in one with rowspan attribute\n",
    "            current_year = int(re.search('[\\d]{4}', columns[0].text).group(0))\n",
    "            continue\n",
    "        elif len(columns) == 5:\n",
    "            # year_td = row.find('td', {'rowspan': True})\n",
    "            # if year_td is not None:\n",
    "            #     current_year = int(year_td.find('b').text)\n",
    "            year_col=columns[0]\n",
    "            current_year = year_col.find('b').text\n",
    "            film_col = columns[1]\n",
    "        # its 4 when it aso contains a country and 3 if it has a country specified above\n",
    "        elif len(columns) == 4 or len(columns) == 3:\n",
    "            film_col = columns[0]\n",
    "        else:\n",
    "            print(f\"Wrong number of columns in {row}\", len(columns))\n",
    "            \n",
    "        winner = film_col.get('style') == 'background:#ccc;'\n",
    "        try:\n",
    "            a = film_col.find('a')\n",
    "            bafta_results.append((current_year, a.get('title'), a.get('href'), winner))\n",
    "        except:\n",
    "            print(f\"Problem with {row}\")\n",
    "            traceback.print_exc()\n",
    "pd.DataFrame(bafta_results, columns = ['year','film','wiki','winner']).to_csv('./data/scraping_results/bafta.csv', index = False)"
   ]
  },
  {
   "attachments": {},
   "cell_type": "markdown",
   "metadata": {},
   "source": [
    "# Producers Guild Awards"
   ]
  },
  {
   "cell_type": "code",
   "execution_count": 14,
   "metadata": {},
   "outputs": [],
   "source": [
    "pga_soup = BeautifulSoup(rq.get('https://en.wikipedia.org/wiki/Producers_Guild_of_America_Award_for_Best_Theatrical_Motion_Picture').text, 'lxml')"
   ]
  },
  {
   "cell_type": "code",
   "execution_count": 15,
   "metadata": {},
   "outputs": [],
   "source": [
    "pga_results = []\n",
    "current_year = 1\n",
    "for table in pga_soup.find_all('table', {'class': 'wikitable'}):\n",
    "    for row in table.find_all('tr')[1:]:\n",
    "        columns = row.find_all('td')\n",
    "        if len(columns) == 4:\n",
    "            current_year = int(re.search('[\\d]{4}', columns[0].text).group(0))\n",
    "            film_col = columns[1]\n",
    "        else:\n",
    "            film_col = columns[0]\n",
    "        if columns[1].get('style') == 'background:#FAEB86;':\n",
    "            winner = True\n",
    "        else:\n",
    "            winner = False\n",
    "        try:\n",
    "            if film_col.find('i') is not None:\n",
    "                a = film_col.find('i').find('a')\n",
    "                pga_results.append((current_year, a.get('title'), a.get('href'), winner))\n",
    "        except:\n",
    "            traceback.print_exc()\n",
    "\n",
    "pd.DataFrame(pga_results, columns = ['year','film','wiki','winner']).to_csv('./data/scraping_results/pga.csv', index = False)"
   ]
  },
  {
   "attachments": {},
   "cell_type": "markdown",
   "metadata": {},
   "source": [
    "## Screen Actors Guild Awards (Ensemble Only)"
   ]
  },
  {
   "cell_type": "code",
   "execution_count": 16,
   "metadata": {},
   "outputs": [],
   "source": [
    "sag_soup = BeautifulSoup(rq.get('https://en.wikipedia.org/wiki/Screen_Actors_Guild_Award_for_Outstanding_Performance_by_a_Cast_in_a_Motion_Picture').text, 'lxml')"
   ]
  },
  {
   "cell_type": "code",
   "execution_count": 17,
   "metadata": {},
   "outputs": [],
   "source": [
    "sag_results = []\n",
    "current_year = 1\n",
    "for table in sag_soup.find_all('table', {'class': 'wikitable'}):\n",
    "    for row in table.find_all('tr')[1:]:\n",
    "        columns = row.find_all('td')\n",
    "        if len(columns) == 3:\n",
    "            current_year = int(re.search('[\\d]{4}', columns[0].text).group(0))\n",
    "            film_col = columns[1]\n",
    "        elif len(columns) == 2:\n",
    "            film_col = columns[0]\n",
    "        else:\n",
    "            print(f\"Wrong number of columns in {row}\")\n",
    "            \n",
    "        winner = film_col.get('style') == 'background:#FAEB86;'\n",
    "        try:\n",
    "            a = film_col.find('a')\n",
    "            sag_results.append((current_year, a.get('title'), a.get('href'), winner))\n",
    "        except:\n",
    "            print(f\"Problem with {row}\")\n",
    "            traceback.print_exc()\n",
    "            \n",
    "sag_df = pd.DataFrame(sag_results, columns = ['year','film','wiki','winner'])\n",
    "sag_df.to_csv('./data/scraping_results/sag_ensemble.csv', index = False)"
   ]
  },
  {
   "attachments": {},
   "cell_type": "markdown",
   "metadata": {},
   "source": [
    "## Golden Globes (Two-Parter: Drama and Comedy)"
   ]
  },
  {
   "cell_type": "code",
   "execution_count": 18,
   "metadata": {},
   "outputs": [],
   "source": [
    "soup = BeautifulSoup(rq.get('https://en.wikipedia.org/wiki/Golden_Globe_Award_for_Best_Motion_Picture_%E2%80%93_Drama').text, 'lxml')\n",
    "\n",
    "globe_drama_results = []\n",
    "current_year = 1\n",
    "pattern = re.compile(r\"\\bGolden Globe Awards\\b\")\n",
    "for table in soup.find_all('table', {'class': 'wikitable'}):\n",
    "    for row in table.find_all('tr')[1:]:\n",
    "        columns = row.find_all('td')\n",
    "        if len(columns) == 4:\n",
    "            current_year = columns[0].text.split('[')[0]\n",
    "            film_col = columns[1]\n",
    "\n",
    "        elif pattern.search(columns[0].find('a').get('title')):\n",
    "            film_col = columns[1]\n",
    "        else:\n",
    "            film_col = columns[0]\n",
    "        if columns[1].get('style'):\n",
    "            winner = True\n",
    "        else:\n",
    "            winner = False\n",
    "        \n",
    "        a = film_col.find('i').find('a')\n",
    "        title = a.get('title')\n",
    "        title_bare = title.split('(')[0]\n",
    "        globe_drama_results.append((current_year, title_bare, a.get('href'), winner))\n",
    "\n",
    "pd.DataFrame(globe_drama_results, columns = ['year','film','wiki','winner']).to_csv('./data/scraping_results/gg_drama.csv', index = False)"
   ]
  },
  {
   "cell_type": "code",
   "execution_count": 19,
   "metadata": {},
   "outputs": [],
   "source": [
    "globes_comedy_soup = BeautifulSoup(rq.get('https://en.wikipedia.org/wiki/Golden_Globe_Award_for_Best_Motion_Picture_%E2%80%93_Musical_or_Comedy').text, 'lxml')\n",
    "\n",
    "globe_comedy_results = []\n",
    "current_year = 1\n",
    "for table in globes_comedy_soup.find_all('table', {'class': 'wikitable'}):\n",
    "    for row in table.find_all('tr')[1:]:\n",
    "        columns = row.find_all('td')\n",
    "        if len(columns) == 4:\n",
    "            current_year = columns[0].text.split('[')[0]\n",
    "            film_col = columns[1]\n",
    "        else:\n",
    "            film_col = columns[0]\n",
    "        if columns[1].get('style'):\n",
    "            winner = True\n",
    "        else:\n",
    "            winner = False\n",
    "        try:\n",
    "            if film_col.find('i') is not None:\n",
    "                a = film_col.find('i').find('a')\n",
    "                title = a.get('title')\n",
    "                title_bare = title.split('(')[0]\n",
    "                globe_comedy_results.append((current_year, title_bare, a.get('href'), winner))\n",
    "        except:\n",
    "            traceback.print_exc()\n",
    "\n",
    "pd.DataFrame(globe_comedy_results, columns = ['year','film','wiki','winner']).to_csv('./data/scraping_results/gg_comedy.csv', index = False)"
   ]
  },
  {
   "attachments": {},
   "cell_type": "markdown",
   "metadata": {},
   "source": [
    "# Results\n",
    "The results of scraping the above Wikipedia pages has given us one DataFrame for each awards show (two for Golden Globes) and a DataFrame with the nominations for every oscar-winning film. These will all be merged together in the [table assembling notebook](https://github.com/njparker1993/oscars_predictions/blob/master/table_assembling.ipynb) to become ML ready.\n",
    "Since the scraping was all done one wikipedia, the movies were able to be kept constant. Below is an example of what one Awards show DataFrame looks like"
   ]
  },
  {
   "cell_type": "code",
   "execution_count": 15,
   "metadata": {},
   "outputs": [
    {
     "data": {
      "text/html": [
       "<div>\n",
       "<style scoped>\n",
       "    .dataframe tbody tr th:only-of-type {\n",
       "        vertical-align: middle;\n",
       "    }\n",
       "\n",
       "    .dataframe tbody tr th {\n",
       "        vertical-align: top;\n",
       "    }\n",
       "\n",
       "    .dataframe thead th {\n",
       "        text-align: right;\n",
       "    }\n",
       "</style>\n",
       "<table border=\"1\" class=\"dataframe\">\n",
       "  <thead>\n",
       "    <tr style=\"text-align: right;\">\n",
       "      <th></th>\n",
       "      <th>year</th>\n",
       "      <th>film</th>\n",
       "      <th>wiki</th>\n",
       "      <th>winner</th>\n",
       "    </tr>\n",
       "  </thead>\n",
       "  <tbody>\n",
       "    <tr>\n",
       "      <th>0</th>\n",
       "      <td>1995</td>\n",
       "      <td>Apollo 13 (film)</td>\n",
       "      <td>/wiki/Apollo_13_(film)</td>\n",
       "      <td>True</td>\n",
       "    </tr>\n",
       "    <tr>\n",
       "      <th>1</th>\n",
       "      <td>1995</td>\n",
       "      <td>Get Shorty (film)</td>\n",
       "      <td>/wiki/Get_Shorty_(film)</td>\n",
       "      <td>False</td>\n",
       "    </tr>\n",
       "    <tr>\n",
       "      <th>2</th>\n",
       "      <td>1995</td>\n",
       "      <td>How to Make an American Quilt</td>\n",
       "      <td>/wiki/How_to_Make_an_American_Quilt</td>\n",
       "      <td>False</td>\n",
       "    </tr>\n",
       "    <tr>\n",
       "      <th>3</th>\n",
       "      <td>1995</td>\n",
       "      <td>Nixon (film)</td>\n",
       "      <td>/wiki/Nixon_(film)</td>\n",
       "      <td>False</td>\n",
       "    </tr>\n",
       "    <tr>\n",
       "      <th>4</th>\n",
       "      <td>1995</td>\n",
       "      <td>Sense and Sensibility (film)</td>\n",
       "      <td>/wiki/Sense_and_Sensibility_(film)</td>\n",
       "      <td>False</td>\n",
       "    </tr>\n",
       "  </tbody>\n",
       "</table>\n",
       "</div>"
      ],
      "text/plain": [
       "   year                           film                                 wiki  \\\n",
       "0  1995               Apollo 13 (film)               /wiki/Apollo_13_(film)   \n",
       "1  1995              Get Shorty (film)              /wiki/Get_Shorty_(film)   \n",
       "2  1995  How to Make an American Quilt  /wiki/How_to_Make_an_American_Quilt   \n",
       "3  1995                   Nixon (film)                   /wiki/Nixon_(film)   \n",
       "4  1995   Sense and Sensibility (film)   /wiki/Sense_and_Sensibility_(film)   \n",
       "\n",
       "   winner  \n",
       "0    True  \n",
       "1   False  \n",
       "2   False  \n",
       "3   False  \n",
       "4   False  "
      ]
     },
     "execution_count": 15,
     "metadata": {},
     "output_type": "execute_result"
    }
   ],
   "source": [
    "sag_df.head(5)"
   ]
  }
 ],
 "metadata": {
  "kernelspec": {
   "display_name": "Python 3",
   "language": "python",
   "name": "python3"
  },
  "language_info": {
   "codemirror_mode": {
    "name": "ipython",
    "version": 3
   },
   "file_extension": ".py",
   "mimetype": "text/x-python",
   "name": "python",
   "nbconvert_exporter": "python",
   "pygments_lexer": "ipython3",
   "version": "3.8.2"
  },
  "vscode": {
   "interpreter": {
    "hash": "e952596dac493944d86cbb9ff16f031ead362979b1b22e29ec2408d212b12732"
   }
  }
 },
 "nbformat": 4,
 "nbformat_minor": 2
}
