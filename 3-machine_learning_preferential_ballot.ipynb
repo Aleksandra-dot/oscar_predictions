{
 "cells": [
  {
   "attachments": {},
   "cell_type": "markdown",
   "metadata": {},
   "source": [
    "# 3-Machine Learning with the Preferential Balloting Random Forest\n",
    "In this notebook, I create and run the Random Forest setup of my own design, the Preferential Balloting Random Forest. By running many decorrelated Decision Tree Classifiers on my Awards Season data set (see [scraping](https://github.com/njparker1993/oscars_predictions/blob/master/scraping.ipynb) and [table_assemblage](https://github.com/njparker1993/oscars_predictions/blob/master/table_assembling.ipynb) notebooks for the feature creation). Using this strategy I simulate the Oscars with a voting body of around 7,000 members."
   ]
  },
  {
   "cell_type": "code",
   "execution_count": 5,
   "metadata": {},
   "outputs": [],
   "source": [
    "import pandas as pd\n",
    "import numpy as np\n",
    "from sklearn.tree import DecisionTreeClassifier"
   ]
  },
  {
   "attachments": {},
   "cell_type": "markdown",
   "metadata": {},
   "source": [
    "# Setting Up our DataFrame\n",
    "First, we load in the ML ready data frame from the table_assemling notebook"
   ]
  },
  {
   "cell_type": "code",
   "execution_count": 6,
   "metadata": {},
   "outputs": [],
   "source": [
    "full_table = pd.read_csv('./data/processed_results/osc_df')"
   ]
  },
  {
   "cell_type": "code",
   "execution_count": 7,
   "metadata": {},
   "outputs": [
    {
     "name": "stdout",
     "output_type": "stream",
     "text": [
      "training set contains: 181 movies\n",
      "Prediciting on: 10 movies\n"
     ]
    }
   ],
   "source": [
    "min_year = 1995 # This is the first year that all awards shows have occured\n",
    "# Training Set - Excluding 2019\n",
    "train = full_table.loc[((full_table['year'] < 2022) & (full_table['year'] > min_year))]\n",
    "test_2022 = full_table.loc[(full_table['year'] == 2022)]\n",
    "\n",
    "print('training set contains:', train.shape[0], 'movies')\n",
    "print('Prediciting on:', test_2022.shape[0], 'movies')"
   ]
  },
  {
   "cell_type": "code",
   "execution_count": 16,
   "metadata": {},
   "outputs": [],
   "source": [
    "# Identify predictors\n",
    "\n",
    "full_predictors = ['year','nom_gg_drama', 'winner_gg_drama', 'nom_gg_comedy', 'winner_gg_comedy',\n",
    "       'nom_pga', 'winner_pga', 'nom_bafta', 'winner_bafta', 'nom_dga', 'winner_dga',\n",
    "        'nom_sag', 'winner_sag', 'nom_cannes', 'winner_cannes','nominations']\n",
    "\n",
    "nominees = ['Everything Everywhere All at Once', 'All uiet on the Western Front', 'Avatar: The Way of Water', 'The Banshees of Inisherin', 'Elvis', 'The Fablemans', 'Tár', 'Top Gun: Maverick', 'Triangle of Sadness', 'Women Talking']"
   ]
  },
  {
   "cell_type": "code",
   "execution_count": 9,
   "metadata": {},
   "outputs": [
    {
     "name": "stdout",
     "output_type": "stream",
     "text": [
      "['Everything Everywhere All at Once', 'All Quiet on the Western Front ', 'Avatar: The Way of Water', 'The Banshees of Inisherin', 'Elvis ', 'The Fabelmans', 'Tár', 'Top Gun: Maverick', 'Triangle of Sadness', 'Women Talking ']\n"
     ]
    }
   ],
   "source": [
    "print(list(test_2022.film))"
   ]
  },
  {
   "attachments": {},
   "cell_type": "markdown",
   "metadata": {},
   "source": [
    "# Simulating a Voter using a Decision Tree\n",
    "Each 'Voter' will take a Decisions Tree trained on a smaller part of the data to pick that voter's rankings of the Best Picture Nominees"
   ]
  },
  {
   "cell_type": "code",
   "execution_count": 10,
   "metadata": {},
   "outputs": [],
   "source": [
    "# The model I am using to predict per voter is a Decison Tree\n",
    "voter1 = DecisionTreeClassifier(splitter='random',\n",
    "                                max_depth=3,# Low depth allows for some randomness\n",
    "                                min_samples_leaf=3,\n",
    "                                random_state = 92)"
   ]
  },
  {
   "attachments": {},
   "cell_type": "markdown",
   "metadata": {},
   "source": [
    "Each DecisionTree in our Preferential Balloting Random Forest needs to produce ranked ballot rather that a classificaiton per film. The difference in the outputs of a tree from a Traditiona Random Forest and a tree from this Preferential Balloting Random Forest can be seen below:"
   ]
  },
  {
   "attachments": {},
   "cell_type": "markdown",
   "metadata": {},
   "source": [
    "![title](pb_rf_tree.png)"
   ]
  },
  {
   "cell_type": "code",
   "execution_count": 1,
   "metadata": {},
   "outputs": [],
   "source": [
    "def simulate_a_vote(model, train_df, to_predict_df, full_predictors):\n",
    "    \"\"\"\n",
    "    This function creates, trains, and predicts with a DecisionTree to simulate an Academy voter.\n",
    "    Each tree only sees a part of the data and gets Noise to decorrelate them from each other.\n",
    "    The prediction is then ranked to create our ballot for Preferential Balloting\n",
    "    \"\"\"\n",
    "    \n",
    "    train = train_df.copy()\n",
    "    test = to_predict_df.copy()\n",
    "    \n",
    "    # A noise column, randomly generated each time represents a voter's bias\n",
    "    #used to decorelate data from each other\n",
    "    train.loc[:,'Noise'] = np.random.rand(train_df.shape[0])\n",
    "    test.loc[:,'Noise'] = np.random.rand(to_predict_df.shape[0])\n",
    "\n",
    "    # Looking at a random amount of awards shows (similar to bootstrapping)\n",
    "    # This reflects a voter's attention to the season\n",
    "    # num_features is how many of the features they care about\n",
    "    num_features = np.random.choice(int(len(full_predictors)/1.7)) #full predictora are nominations and wins in other competitions\n",
    "    voter_features = list(np.random.choice(full_predictors, num_features)) + ['Noise']\n",
    "\n",
    "    x = np.array(train[voter_features])\n",
    "    y = np.array(train['Oscar_win'])\n",
    "    \n",
    "    model.fit(x,y)\n",
    "    \n",
    "    # Probability of the voter will represent the ranked votes in the ballot_clean array\n",
    "    ballot_clean = model.predict_proba(np.array(test[voter_features]))[:,1]\n",
    "    # Add small random values to break up ties\n",
    "    ballot = ballot_clean + np.random.rand(len(ballot_clean))/10000\n",
    "    \n",
    "    # Use np.argsort() to rank the order of the probA\n",
    "    # The Academy uses ranked votes calculate winner\n",
    "\n",
    "    temp = ballot.argsort() # indices that will sort ballot in ascending order\n",
    "    ranks = np.empty_like(temp) #this array stores the rank of each ballot probability \n",
    "    ranks[temp] = np.arange(len(ballot)) #set values of ranks at the indices specified by temp\n",
    "    ranks = np.abs(ranks - len(ballot)) #hghest rank corresponds to the smallest probability\n",
    "    return ranks # ten ranks for each films on the nominated list - if rank[0]=2 first film on the list received the 3 hghest porbability "
   ]
  },
  {
   "attachments": {},
   "cell_type": "markdown",
   "metadata": {},
   "source": [
    "vote = simulate_a_vote(voter1, train, test_2022, full_predictors)\n",
    "print(\"This voter's ballot looks like:\",vote)\n",
    "position = np.argmin(vote)\n",
    "print(f\"This means their first choice is the {position + 1}th film in our df: {nominees[position]}\")"
   ]
  },
  {
   "attachments": {},
   "cell_type": "markdown",
   "metadata": {},
   "source": [
    "# Simulating the Entire Academy\n",
    "By 'casting a vote' many times, we can get the ballot from the entire academy"
   ]
  },
  {
   "cell_type": "code",
   "execution_count": 3,
   "metadata": {},
   "outputs": [],
   "source": [
    "# function which returns a given number of ballots an nparray of ballots\n",
    "def simulate_voting_body(num_voters, model, train_df, to_predict_df, full_predictors):\n",
    "    \"\"\"\n",
    "    Runs simulate_a_vote and collects ballots from an academy of num_voters size\n",
    "    \"\"\"\n",
    "    collected_ballots = np.zeros((num_voters, to_predict_df.shape[0]))\n",
    "    for i in range(num_voters):\n",
    "        collected_ballots[i,:] = simulate_a_vote(model, train_df, to_predict_df, full_predictors)\n",
    "    return collected_ballots"
   ]
  },
  {
   "cell_type": "code",
   "execution_count": 11,
   "metadata": {},
   "outputs": [
    {
     "name": "stdout",
     "output_type": "stream",
     "text": [
      "Here is an example of a 5-person Academy:\n",
      "[[ 9. 10.  5.  8.  2.  6.  4.  3.  1.  7.]\n",
      " [ 1. 10.  9.  2.  7.  5.  4.  3.  8.  6.]\n",
      " [10.  3.  4.  1.  5.  2.  8.  7.  6.  9.]\n",
      " [ 9.  8.  3.  2.  4.  5.  1.  6.  7. 10.]\n",
      " [ 1.  3. 10.  8.  9.  2.  5.  4.  6.  7.]]\n",
      "<class 'numpy.ndarray'>\n"
     ]
    }
   ],
   "source": [
    "n = 5\n",
    "print(f'Here is an example of a {n}-person Academy:')\n",
    "print(simulate_voting_body(n, voter1, train, test_2022, full_predictors))"
   ]
  },
  {
   "cell_type": "code",
   "execution_count": 14,
   "metadata": {},
   "outputs": [],
   "source": [
    "def tally_votes(voting_body, list_of_nominees):\n",
    "    # List of nominees must be in the same order as the vote index\n",
    "    #firsts is a numpy array where on an index where rank is 1 the value is one, everywhere a value is 0\n",
    "    firsts = np.where(voting_body==1,1,0)\n",
    "    tally = np.sum(firsts, axis = 0)\n",
    "    tallied_votes_df = pd.DataFrame(tally, columns=['Votes']).T\n",
    "    tallied_votes_df.columns = list_of_nominees\n",
    "    return tallied_votes_df.T.sort_values('Votes', ascending = False)"
   ]
  },
  {
   "cell_type": "code",
   "execution_count": 15,
   "metadata": {},
   "outputs": [
    {
     "name": "stdout",
     "output_type": "stream",
     "text": [
      "Overall, this 1000-person academy's top picks look like this:\n"
     ]
    },
    {
     "data": {
      "text/plain": [
       "<AxesSubplot:>"
      ]
     },
     "execution_count": 15,
     "metadata": {},
     "output_type": "execute_result"
    },
    {
     "data": {
      "image/png": "[encoded data removed]",
      "text/plain": [
       "<Figure size 432x288 with 1 Axes>"
      ]
     },
     "metadata": {
      "needs_background": "light"
     },
     "output_type": "display_data"
    }
   ],
   "source": [
    "n = 1000\n",
    "this_academy = simulate_voting_body(n, voter1, train, test_2022, full_predictors)\n",
    "print(f\"Overall, this {n}-person academy's top picks look like this:\")\n",
    "plot_df1 = tally_votes(this_academy, nominees)\n",
    "plot_df1.plot(kind=\"barh\")"
   ]
  },
  {
   "attachments": {},
   "cell_type": "markdown",
   "metadata": {},
   "source": [
    "# Tiered Voting Changes\n",
    "We start elimnating the least voted for film from the ballots and re-ranking the films"
   ]
  },
  {
   "cell_type": "code",
   "execution_count": 17,
   "metadata": {},
   "outputs": [],
   "source": [
    "def remove_least(voting_body, list_of_nominees):\n",
    "    \"\"\"\n",
    "    A function used for the elimination step of Preferential Balloting\n",
    "    This function determines which film has the least #1 rankings and removes it\n",
    "    \"\"\"\n",
    "    \n",
    "    # List of nominees must be in the same order as the vote index\n",
    "    firsts = np.where(voting_body==1,1,0)\n",
    "    tally = np.sum(firsts, axis = 0)\n",
    "    least_votes_index = np.argmin(tally)\n",
    "    \n",
    "    # Removes the least voted entry (from # 1 to 0)\n",
    "    voting_body = np.delete(voting_body, least_votes_index, axis = 1)\n",
    "    list_of_nominees.remove(list_of_nominees[least_votes_index])\n",
    "    return voting_body, list_of_nominees"
   ]
  },
  {
   "cell_type": "code",
   "execution_count": 35,
   "metadata": {},
   "outputs": [],
   "source": [
    "def re_rank_ballots(voting_body):\n",
    "    \"\"\"\n",
    "    Another function used for the elimination step of Preferential Balloting\n",
    "    Takes a voting body (numpy array)\n",
    "    Makes sure each row goes from 1 to shape[1]\n",
    "    \"\"\"\n",
    "    re_ranked = np.zeros(voting_body.shape)\n",
    "    for i in range(voting_body.shape[0]):\n",
    "        temp = voting_body[i,:].argsort()\n",
    "        ranks = np.empty_like(temp)\n",
    "        ranks[temp] = np.arange(len(voting_body[i,:]))\n",
    "        re_ranked[i,:] = ranks + 1\n",
    "    return re_ranked"
   ]
  },
  {
   "cell_type": "code",
   "execution_count": 36,
   "metadata": {},
   "outputs": [],
   "source": [
    "def run_one_round_of_eliminations(voting_body, list_of_nominees):\n",
    "    \"\"\"\n",
    "    A function which runs one elimination step of Preferential Balloting \n",
    "    Takes in a Voting Body and List of Nominess and returns them,\n",
    "    but the film with the least #1 votes has bene removed\n",
    "    \"\"\"    \n",
    "    voting_body, list_of_nominees = remove_least(voting_body, list_of_nominees)\n",
    "    voting_body = re_rank_ballots(voting_body)\n",
    "    return voting_body, list_of_nominees"
   ]
  },
  {
   "cell_type": "code",
   "execution_count": 37,
   "metadata": {},
   "outputs": [
    {
     "name": "stdout",
     "output_type": "stream",
     "text": [
      "9 films remaining\n",
      "\n",
      "New Standings:\n"
     ]
    },
    {
     "data": {
      "text/html": [
       "<div>\n",
       "<style scoped>\n",
       "    .dataframe tbody tr th:only-of-type {\n",
       "        vertical-align: middle;\n",
       "    }\n",
       "\n",
       "    .dataframe tbody tr th {\n",
       "        vertical-align: top;\n",
       "    }\n",
       "\n",
       "    .dataframe thead th {\n",
       "        text-align: right;\n",
       "    }\n",
       "</style>\n",
       "<table border=\"1\" class=\"dataframe\">\n",
       "  <thead>\n",
       "    <tr style=\"text-align: right;\">\n",
       "      <th></th>\n",
       "      <th>Votes</th>\n",
       "    </tr>\n",
       "  </thead>\n",
       "  <tbody>\n",
       "    <tr>\n",
       "      <th>Everything Everywhere All at Once</th>\n",
       "      <td>499</td>\n",
       "    </tr>\n",
       "    <tr>\n",
       "      <th>MThe Fablemans</th>\n",
       "      <td>153</td>\n",
       "    </tr>\n",
       "    <tr>\n",
       "      <th>The Banshees of Inisherin</th>\n",
       "      <td>83</td>\n",
       "    </tr>\n",
       "    <tr>\n",
       "      <th>Top Gun: Maverick</th>\n",
       "      <td>59</td>\n",
       "    </tr>\n",
       "    <tr>\n",
       "      <th>Avatar: The Way of Water</th>\n",
       "      <td>48</td>\n",
       "    </tr>\n",
       "    <tr>\n",
       "      <th>Elvis</th>\n",
       "      <td>46</td>\n",
       "    </tr>\n",
       "    <tr>\n",
       "      <th>Tár</th>\n",
       "      <td>46</td>\n",
       "    </tr>\n",
       "    <tr>\n",
       "      <th>Triangle of Sadness</th>\n",
       "      <td>35</td>\n",
       "    </tr>\n",
       "    <tr>\n",
       "      <th>Women Talking</th>\n",
       "      <td>31</td>\n",
       "    </tr>\n",
       "  </tbody>\n",
       "</table>\n",
       "</div>"
      ],
      "text/plain": [
       "                                   Votes\n",
       "Everything Everywhere All at Once    499\n",
       "MThe Fablemans                       153\n",
       "The Banshees of Inisherin             83\n",
       "Top Gun: Maverick                     59\n",
       "Avatar: The Way of Water              48\n",
       "Elvis                                 46\n",
       "Tár                                   46\n",
       "Triangle of Sadness                   35\n",
       "Women Talking                         31"
      ]
     },
     "execution_count": 37,
     "metadata": {},
     "output_type": "execute_result"
    }
   ],
   "source": [
    "new_votes, new_noms = run_one_round_of_eliminations(this_academy, nominees)\n",
    "\n",
    "print(len(new_noms), 'films remaining')\n",
    "print('\\nNew Standings:')\n",
    "tally_votes(new_votes, new_noms)"
   ]
  },
  {
   "attachments": {},
   "cell_type": "markdown",
   "metadata": {},
   "source": [
    "## Re-Rank until one film has more than 50% of the vote\n",
    "This is where the real simulation comes in.\n",
    "We put together all the previous functions to simulate the result of the 2019 Best Picture voting"
   ]
  },
  {
   "cell_type": "code",
   "execution_count": 38,
   "metadata": {},
   "outputs": [],
   "source": [
    "def run_preferential_voting(voting_body,list_of_nominees, show_steps = False):\n",
    "    \"\"\"\n",
    "    Runs the process of Preferential Balloting on a voting_body(matrix)\n",
    "    Terminates when one film has greater than 50% of the #1 votes\n",
    "    \"\"\"   \n",
    "    top_pick_percent = tally_votes(voting_body,list_of_nominees).max()[0]/tally_votes(voting_body,list_of_nominees).sum()[0]\n",
    "    while top_pick_percent < 0.5:\n",
    "        voting_body,list_of_nominees = run_one_round_of_eliminations(voting_body, list_of_nominees)\n",
    "        top_pick_percent = tally_votes(voting_body,list_of_nominees).max()[0]/tally_votes(voting_body,list_of_nominees).sum()[0]    \n",
    "        if show_steps:\n",
    "            print(tally_votes(voting_body, list_of_nominees),'\\n')\n",
    "    return voting_body, list_of_nominees"
   ]
  },
  {
   "attachments": {},
   "cell_type": "markdown",
   "metadata": {},
   "source": [
    "# Lets Simulate the Oscars!"
   ]
  },
  {
   "cell_type": "code",
   "execution_count": 40,
   "metadata": {},
   "outputs": [
    {
     "name": "stdout",
     "output_type": "stream",
     "text": [
      "training set contains: 181 movies\n",
      "Prediciting on: 10 movies\n",
      "\n",
      "Simulating an Academy with 7000 random voters.....\n",
      "\n",
      "Initial Rankings:\n",
      "----------------------------------------\n",
      "                                   Votes\n",
      "Everything Everywhere All at Once   3628\n",
      "MThe Fablemans                       957\n",
      "The Banshees of Inisherin            468\n",
      "Tár                                  333\n",
      "Elvis                                327\n",
      "Top Gun: Maverick                    320\n",
      "Avatar: The Way of Water             290\n",
      "Triangle of Sadness                  249\n",
      "Women Talking                        227\n",
      "All uiet on the Western Front        201 \n",
      "\n",
      "Now we start eliminating films untill there one has more than 50% of the top picks:\n",
      "----------------------------------------\n"
     ]
    }
   ],
   "source": [
    "min_year = 1995\n",
    "\n",
    "# Training Set - Excluding 2019\n",
    "train = full_table.loc[((full_table['year'] < 2022) & (full_table['year'] > min_year))]\n",
    "test_2022 = full_table.loc[(full_table['year'] == 2022)]\n",
    "\n",
    "print('training set contains:', train.shape[0], 'movies')\n",
    "print('Prediciting on:', test_2022.shape[0], 'movies')\n",
    "\n",
    "# Identify features to predict on\n",
    "full_predictors = ['year','nom_gg_drama', 'winner_gg_drama', 'nom_gg_comedy', 'winner_gg_comedy',\n",
    "       'nom_pga', 'winner_pga', 'nom_bafta', 'winner_bafta', 'nom_dga', 'winner_dga',\n",
    "        'nom_sag', 'winner_sag', 'nom_cannes', 'winner_cannes','nominations']\n",
    "\n",
    "nominees = ['Everything Everywhere All at Once', 'All uiet on the Western Front', 'Avatar: The Way of Water', 'The Banshees of Inisherin', 'Elvis', 'The Fablemans', 'Tár', 'Top Gun: Maverick', 'Triangle of Sadness', 'Women Talking']\n",
    "# PicK the model we want for each random voter\n",
    "voter_model = DecisionTreeClassifier(splitter='random',\n",
    "                                max_depth=3,\n",
    "                                min_samples_leaf=3,\n",
    "                                random_state = 92)\n",
    "\n",
    "num_voters_academy = 7000\n",
    "print(f'\\nSimulating an Academy with {num_voters_academy} random voters.....')\n",
    "academy_sim = simulate_voting_body(num_voters=num_voters_academy, model = voter_model, train_df = train, to_predict_df = test_2022, full_predictors=full_predictors)\n",
    "\n",
    "print('\\nInitial Rankings:\\n----------------------------------------')\n",
    "print(tally_votes(academy_sim, nominees),'\\n')\n",
    "print(\"Now we start eliminating films untill there one has more than 50% of the top picks:\\n----------------------------------------\")\n",
    "final_ballot, final_films = run_preferential_voting(academy_sim, nominees, True)"
   ]
  },
  {
   "attachments": {},
   "cell_type": "markdown",
   "metadata": {},
   "source": [
    "# And the Oscar goes to..."
   ]
  },
  {
   "cell_type": "code",
   "execution_count": 41,
   "metadata": {},
   "outputs": [
    {
     "data": {
      "text/html": [
       "<div>\n",
       "<style scoped>\n",
       "    .dataframe tbody tr th:only-of-type {\n",
       "        vertical-align: middle;\n",
       "    }\n",
       "\n",
       "    .dataframe tbody tr th {\n",
       "        vertical-align: top;\n",
       "    }\n",
       "\n",
       "    .dataframe thead th {\n",
       "        text-align: right;\n",
       "    }\n",
       "</style>\n",
       "<table border=\"1\" class=\"dataframe\">\n",
       "  <thead>\n",
       "    <tr style=\"text-align: right;\">\n",
       "      <th></th>\n",
       "      <th>Votes</th>\n",
       "    </tr>\n",
       "  </thead>\n",
       "  <tbody>\n",
       "    <tr>\n",
       "      <th>Everything Everywhere All at Once</th>\n",
       "      <td>3628</td>\n",
       "    </tr>\n",
       "    <tr>\n",
       "      <th>MThe Fablemans</th>\n",
       "      <td>957</td>\n",
       "    </tr>\n",
       "    <tr>\n",
       "      <th>The Banshees of Inisherin</th>\n",
       "      <td>468</td>\n",
       "    </tr>\n",
       "    <tr>\n",
       "      <th>Tár</th>\n",
       "      <td>333</td>\n",
       "    </tr>\n",
       "    <tr>\n",
       "      <th>Elvis</th>\n",
       "      <td>327</td>\n",
       "    </tr>\n",
       "    <tr>\n",
       "      <th>Top Gun: Maverick</th>\n",
       "      <td>320</td>\n",
       "    </tr>\n",
       "    <tr>\n",
       "      <th>Avatar: The Way of Water</th>\n",
       "      <td>290</td>\n",
       "    </tr>\n",
       "    <tr>\n",
       "      <th>Triangle of Sadness</th>\n",
       "      <td>249</td>\n",
       "    </tr>\n",
       "    <tr>\n",
       "      <th>Women Talking</th>\n",
       "      <td>227</td>\n",
       "    </tr>\n",
       "    <tr>\n",
       "      <th>All uiet on the Western Front</th>\n",
       "      <td>201</td>\n",
       "    </tr>\n",
       "  </tbody>\n",
       "</table>\n",
       "</div>"
      ],
      "text/plain": [
       "                                   Votes\n",
       "Everything Everywhere All at Once   3628\n",
       "MThe Fablemans                       957\n",
       "The Banshees of Inisherin            468\n",
       "Tár                                  333\n",
       "Elvis                                327\n",
       "Top Gun: Maverick                    320\n",
       "Avatar: The Way of Water             290\n",
       "Triangle of Sadness                  249\n",
       "Women Talking                        227\n",
       "All uiet on the Western Front        201"
      ]
     },
     "execution_count": 41,
     "metadata": {},
     "output_type": "execute_result"
    }
   ],
   "source": [
    "tally_votes(final_ballot, final_films)"
   ]
  },
  {
   "cell_type": "code",
   "execution_count": 42,
   "metadata": {},
   "outputs": [
    {
     "name": "stdout",
     "output_type": "stream",
     "text": [
      "And the Oscar goes to...\n",
      "🎉🏆Everything Everywhere All at Once🏆🎉\n"
     ]
    }
   ],
   "source": [
    "bp_winner = np.array(tally_votes(final_ballot, final_films).reset_index())[0][0].split('(')[0].strip()\n",
    "print(f'And the Oscar goes to...\\n🎉🏆{bp_winner}🏆🎉')"
   ]
  },
  {
   "attachments": {},
   "cell_type": "markdown",
   "metadata": {},
   "source": [
    "This random forest set-up simulated the academy and changed the normally vote counting process of the RF to use preferential balloting. I check the result of this prediciton process against a number of models in the [AutoML Machine Learning Notebook](https://github.com/njparker1993/oscars_predictions/blob/master/machine_learning_auto_ml.ipynb)"
   ]
  }
 ],
 "metadata": {
  "kernelspec": {
   "display_name": "Python 3",
   "language": "python",
   "name": "python3"
  },
  "language_info": {
   "codemirror_mode": {
    "name": "ipython",
    "version": 3
   },
   "file_extension": ".py",
   "mimetype": "text/x-python",
   "name": "python",
   "nbconvert_exporter": "python",
   "pygments_lexer": "ipython3",
   "version": "3.9.2"
  }
 },
 "nbformat": 4,
 "nbformat_minor": 2
}
