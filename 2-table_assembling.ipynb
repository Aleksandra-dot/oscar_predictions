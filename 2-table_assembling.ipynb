{
 "cells": [
  {
   "attachments": {},
   "cell_type": "markdown",
   "metadata": {},
   "source": [
    "# 2-Table Assembling"
   ]
  },
  {
   "attachments": {},
   "cell_type": "markdown",
   "metadata": {},
   "source": [
    "This notebook assembles the results of the [scraping](https://github.com/njparker1993/oscars_predictions/blob/master/scraping.ipynb) into one dataframe into a machine learning-ready DataFrame."
   ]
  },
  {
   "cell_type": "code",
   "execution_count": 1,
   "metadata": {},
   "outputs": [],
   "source": [
    "import pandas as pd\n",
    "import numpy as np"
   ]
  },
  {
   "cell_type": "code",
   "execution_count": 2,
   "metadata": {},
   "outputs": [],
   "source": [
    "#nominated and winners of best picture award Oscars from 1927 (year, title, wiki, winner(T/F))\n",
    "osc_scrape = pd.read_csv('./data/scraping_results/osc_bp.csv')\n",
    "#oscar nominations of award winning films (year, film, link, liczba nominacji, film_text)\n",
    "noms = pd.read_csv('./data/scraping_results/noms.csv')\n",
    "#like osc_scrape but for golden globes from 1943\n",
    "gg_drama = pd.read_csv('./data/scraping_results/gg_drama.csv')\n",
    "#like osc_scrape but for golden globes from 1951\n",
    "gg_comedy = pd.read_csv('./data/scraping_results/gg_comedy.csv')\n",
    "#producers guild year film wiki winner from 1989\n",
    "pga = pd.read_csv('./data/scraping_results/pga.csv')\n",
    "#from 1960\n",
    "bafta = pd.read_csv('./data/scraping_results/bafta.csv')\n",
    "#directors guild from 1948\n",
    "dga = pd.read_csv('./data/scraping_results/dgas.csv')\n",
    "#screen actors guild from 1995\n",
    "sag = pd.read_csv('./data/scraping_results/sag_ensemble.csv')"
   ]
  },
  {
   "attachments": {},
   "cell_type": "markdown",
   "metadata": {},
   "source": [
    "# Join on Nominations"
   ]
  },
  {
   "cell_type": "code",
   "execution_count": 3,
   "metadata": {},
   "outputs": [],
   "source": [
    "# I use this order and manually fill in the nominations for this year\n",
    "noms_merge = noms[['film','nominations']].drop_duplicates()\n",
    "osc_scrape = pd.merge(osc_scrape, noms_merge, on = 'film', how = 'left')\n",
    "osc_to_avg = osc_scrape.copy()\n",
    "avg_noms = int(osc_to_avg.loc[(~osc_to_avg['nominations'].isna())]['nominations'].mean())\n",
    "osc_scrape.loc[(osc_scrape['nominations'].isna()), 'nominations'] = avg_noms"
   ]
  },
  {
   "attachments": {},
   "cell_type": "markdown",
   "metadata": {},
   "source": [
    "## Join on the other awards shows"
   ]
  },
  {
   "cell_type": "code",
   "execution_count": 4,
   "metadata": {},
   "outputs": [],
   "source": [
    "def table_assemble(main_df, to_add_df, show_name):\n",
    "    \"\"\"\n",
    "    Given an awards show scraped from Wikipedia, this function\n",
    "    Adds it as a feature as a 0/1 flag if it was\n",
    "    Nominated for that Award and if it won\n",
    "    \"\"\"\n",
    "    nom_col = str('nom_') + show_name\n",
    "    win_col = str('winner_') + show_name\n",
    "    # Initalize Columns as no\n",
    "    main_df[nom_col] = 0\n",
    "    main_df[win_col] = 0\n",
    "    to_add_df.columns = ['year','film','wiki','winner_add']\n",
    "    main_df = pd.merge(main_df, to_add_df[['film','winner_add']], on = 'film', how = 'left')\n",
    "    main_df.loc[(~main_df['winner_add'].isna()), nom_col] = 1\n",
    "    main_df.loc[(main_df['winner_add'] == True), win_col] = 1\n",
    "    main_df = main_df.drop('winner_add', axis = 1)\n",
    "    return main_df\n"
   ]
  },
  {
   "cell_type": "code",
   "execution_count": 5,
   "metadata": {},
   "outputs": [],
   "source": [
    "# Adding a response columns\n",
    "osc_scrape['Oscar_win'] = 0\n",
    "osc_scrape.loc[(osc_scrape['winner'] == True), 'Oscar_win'] = 1"
   ]
  },
  {
   "cell_type": "code",
   "execution_count": 7,
   "metadata": {},
   "outputs": [],
   "source": [
    "# Adding on the results of each festival\n",
    "scraped_dfs = [gg_drama, gg_comedy, pga, bafta, dga, sag]\n",
    "scraped_names = ['gg_drama','gg_comedy','pga', 'bafta', 'dga', 'sag']\n",
    "\n",
    "for i in range(len(scraped_dfs)):\n",
    "    osc_scrape = table_assemble(osc_scrape, scraped_dfs[i], scraped_names[i])"
   ]
  },
  {
   "cell_type": "code",
   "execution_count": 8,
   "metadata": {},
   "outputs": [
    {
     "name": "stdout",
     "output_type": "stream",
     "text": [
      "gg_drama 1943\n",
      "gg_comedy 1951\n",
      "pga 1989\n",
      "bafta 1960\n",
      "dga 1948\n",
      "sag 1995\n"
     ]
    }
   ],
   "source": [
    "# Some awards didn't exist until certain years\n",
    "for i in range(len(scraped_dfs)):\n",
    "    print(scraped_names[i], scraped_dfs[i].year.min())"
   ]
  },
  {
   "cell_type": "code",
   "execution_count": 9,
   "metadata": {},
   "outputs": [],
   "source": [
    "# Saving the data\n",
    "osc_scrape.to_csv('./data/processed_results/osc_df')"
   ]
  },
  {
   "attachments": {},
   "cell_type": "markdown",
   "metadata": {},
   "source": [
    "# Results\n",
    "The DataFrame is now Machine Learning ready, with 0's and 1's as markers for how a given Oscar-Nominated Film did for that Awards show. The response column will be Oscar_win. An example of this final DataFrame can be seen below."
   ]
  },
  {
   "cell_type": "code",
   "execution_count": 10,
   "metadata": {},
   "outputs": [
    {
     "data": {
      "text/html": [
       "<div>\n",
       "<style scoped>\n",
       "    .dataframe tbody tr th:only-of-type {\n",
       "        vertical-align: middle;\n",
       "    }\n",
       "\n",
       "    .dataframe tbody tr th {\n",
       "        vertical-align: top;\n",
       "    }\n",
       "\n",
       "    .dataframe thead th {\n",
       "        text-align: right;\n",
       "    }\n",
       "</style>\n",
       "<table border=\"1\" class=\"dataframe\">\n",
       "  <thead>\n",
       "    <tr style=\"text-align: right;\">\n",
       "      <th></th>\n",
       "      <th>year</th>\n",
       "      <th>film</th>\n",
       "      <th>nominations</th>\n",
       "      <th>Oscar_win</th>\n",
       "      <th>nom_gg_drama</th>\n",
       "      <th>winner_gg_drama</th>\n",
       "      <th>nom_gg_comedy</th>\n",
       "      <th>winner_gg_comedy</th>\n",
       "      <th>nom_pga</th>\n",
       "      <th>winner_pga</th>\n",
       "      <th>nom_bafta</th>\n",
       "      <th>winner_bafta</th>\n",
       "      <th>nom_dga</th>\n",
       "      <th>winner_dga</th>\n",
       "      <th>nom_sag</th>\n",
       "      <th>winner_sag</th>\n",
       "    </tr>\n",
       "  </thead>\n",
       "  <tbody>\n",
       "    <tr>\n",
       "      <th>328</th>\n",
       "      <td>1981</td>\n",
       "      <td>Raiders of the Lost Ark</td>\n",
       "      <td>8.0</td>\n",
       "      <td>0</td>\n",
       "      <td>0</td>\n",
       "      <td>0</td>\n",
       "      <td>0</td>\n",
       "      <td>0</td>\n",
       "      <td>0</td>\n",
       "      <td>0</td>\n",
       "      <td>1</td>\n",
       "      <td>0</td>\n",
       "      <td>1</td>\n",
       "      <td>0</td>\n",
       "      <td>0</td>\n",
       "      <td>0</td>\n",
       "    </tr>\n",
       "    <tr>\n",
       "      <th>539</th>\n",
       "      <td>2017</td>\n",
       "      <td>Darkest Hour</td>\n",
       "      <td>7.0</td>\n",
       "      <td>0</td>\n",
       "      <td>0</td>\n",
       "      <td>0</td>\n",
       "      <td>0</td>\n",
       "      <td>0</td>\n",
       "      <td>0</td>\n",
       "      <td>0</td>\n",
       "      <td>0</td>\n",
       "      <td>0</td>\n",
       "      <td>0</td>\n",
       "      <td>0</td>\n",
       "      <td>0</td>\n",
       "      <td>0</td>\n",
       "    </tr>\n",
       "    <tr>\n",
       "      <th>433</th>\n",
       "      <td>2002</td>\n",
       "      <td>The Lord of the Rings: The Two Towers</td>\n",
       "      <td>6.0</td>\n",
       "      <td>0</td>\n",
       "      <td>1</td>\n",
       "      <td>0</td>\n",
       "      <td>0</td>\n",
       "      <td>0</td>\n",
       "      <td>1</td>\n",
       "      <td>0</td>\n",
       "      <td>1</td>\n",
       "      <td>0</td>\n",
       "      <td>1</td>\n",
       "      <td>0</td>\n",
       "      <td>1</td>\n",
       "      <td>0</td>\n",
       "    </tr>\n",
       "    <tr>\n",
       "      <th>417</th>\n",
       "      <td>1999</td>\n",
       "      <td>The Green Mile</td>\n",
       "      <td>7.0</td>\n",
       "      <td>0</td>\n",
       "      <td>0</td>\n",
       "      <td>0</td>\n",
       "      <td>0</td>\n",
       "      <td>0</td>\n",
       "      <td>0</td>\n",
       "      <td>0</td>\n",
       "      <td>0</td>\n",
       "      <td>0</td>\n",
       "      <td>0</td>\n",
       "      <td>0</td>\n",
       "      <td>0</td>\n",
       "      <td>0</td>\n",
       "    </tr>\n",
       "    <tr>\n",
       "      <th>580</th>\n",
       "      <td>2021</td>\n",
       "      <td>West Side Story</td>\n",
       "      <td>7.0</td>\n",
       "      <td>0</td>\n",
       "      <td>0</td>\n",
       "      <td>0</td>\n",
       "      <td>1</td>\n",
       "      <td>1</td>\n",
       "      <td>0</td>\n",
       "      <td>0</td>\n",
       "      <td>0</td>\n",
       "      <td>0</td>\n",
       "      <td>0</td>\n",
       "      <td>0</td>\n",
       "      <td>0</td>\n",
       "      <td>0</td>\n",
       "    </tr>\n",
       "  </tbody>\n",
       "</table>\n",
       "</div>"
      ],
      "text/plain": [
       "     year                                   film  nominations  Oscar_win  \\\n",
       "328  1981                Raiders of the Lost Ark          8.0          0   \n",
       "539  2017                          Darkest Hour           7.0          0   \n",
       "433  2002  The Lord of the Rings: The Two Towers          6.0          0   \n",
       "417  1999                        The Green Mile           7.0          0   \n",
       "580  2021                       West Side Story           7.0          0   \n",
       "\n",
       "     nom_gg_drama  winner_gg_drama  nom_gg_comedy  winner_gg_comedy  nom_pga  \\\n",
       "328             0                0              0                 0        0   \n",
       "539             0                0              0                 0        0   \n",
       "433             1                0              0                 0        1   \n",
       "417             0                0              0                 0        0   \n",
       "580             0                0              1                 1        0   \n",
       "\n",
       "     winner_pga  nom_bafta  winner_bafta  nom_dga  winner_dga  nom_sag  \\\n",
       "328           0          1             0        1           0        0   \n",
       "539           0          0             0        0           0        0   \n",
       "433           0          1             0        1           0        1   \n",
       "417           0          0             0        0           0        0   \n",
       "580           0          0             0        0           0        0   \n",
       "\n",
       "     winner_sag  \n",
       "328           0  \n",
       "539           0  \n",
       "433           0  \n",
       "417           0  \n",
       "580           0  "
      ]
     },
     "execution_count": 10,
     "metadata": {},
     "output_type": "execute_result"
    }
   ],
   "source": [
    "cols = list(osc_scrape.columns)\n",
    "display_cols = cols[0:2] + cols[4:]\n",
    "osc_scrape[display_cols].sample(5)"
   ]
  },
  {
   "cell_type": "code",
   "execution_count": 11,
   "metadata": {},
   "outputs": [
    {
     "data": {
      "text/plain": [
       "591"
      ]
     },
     "execution_count": 11,
     "metadata": {},
     "output_type": "execute_result"
    }
   ],
   "source": [
    "len(osc_scrape)"
   ]
  },
  {
   "cell_type": "code",
   "execution_count": 12,
   "metadata": {},
   "outputs": [
    {
     "data": {
      "text/plain": [
       "['year',\n",
       " 'film',\n",
       " 'nominations',\n",
       " 'Oscar_win',\n",
       " 'nom_gg_drama',\n",
       " 'winner_gg_drama',\n",
       " 'nom_gg_comedy',\n",
       " 'winner_gg_comedy',\n",
       " 'nom_pga',\n",
       " 'winner_pga',\n",
       " 'nom_bafta',\n",
       " 'winner_bafta',\n",
       " 'nom_dga',\n",
       " 'winner_dga',\n",
       " 'nom_sag',\n",
       " 'winner_sag']"
      ]
     },
     "execution_count": 12,
     "metadata": {},
     "output_type": "execute_result"
    }
   ],
   "source": [
    "display_cols"
   ]
  }
 ],
 "metadata": {
  "kernelspec": {
   "display_name": "Python 3",
   "language": "python",
   "name": "python3"
  },
  "language_info": {
   "codemirror_mode": {
    "name": "ipython",
    "version": 3
   },
   "file_extension": ".py",
   "mimetype": "text/x-python",
   "name": "python",
   "nbconvert_exporter": "python",
   "pygments_lexer": "ipython3",
   "version": "3.9.2"
  }
 },
 "nbformat": 4,
 "nbformat_minor": 2
}
