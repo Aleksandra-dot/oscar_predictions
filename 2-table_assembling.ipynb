{
 "cells": [
  {
   "attachments": {},
   "cell_type": "markdown",
   "metadata": {},
   "source": [
    "# 2-Table Assembling"
   ]
  },
  {
   "attachments": {},
   "cell_type": "markdown",
   "metadata": {},
   "source": [
    "This notebook assembles the results of the [scraping](https://github.com/njparker1993/oscars_predictions/blob/master/scraping.ipynb) into one dataframe into a machine learning-ready DataFrame."
   ]
  },
  {
   "cell_type": "code",
   "execution_count": 1,
   "metadata": {},
   "outputs": [],
   "source": [
    "import pandas as pd\n",
    "import numpy as np"
   ]
  },
  {
   "cell_type": "code",
   "execution_count": 2,
   "metadata": {},
   "outputs": [],
   "source": [
    "#nominated and winners of best picture award Oscars from 1927 (year, title, wiki, winner(T/F))\n",
    "osc_scrape = pd.read_csv('./data/scraping_results/osc_bp.csv')\n",
    "#oscar nominations of award winning films (year, film, link, liczba nominacji, film_text)\n",
    "noms = pd.read_csv('./data/scraping_results/noms.csv')\n",
    "#like osc_scrape but for golden globes from 1943\n",
    "gg_drama = pd.read_csv('./data/scraping_results/gg_drama.csv')\n",
    "#like osc_scrape but for golden globes from 1951\n",
    "gg_comedy = pd.read_csv('./data/scraping_results/gg_comedy.csv')\n",
    "#producers guild year film wiki winner from 1989\n",
    "pga = pd.read_csv('./data/scraping_results/pga.csv')\n",
    "#from 1960\n",
    "bafta = pd.read_csv('./data/scraping_results/bafta.csv')\n",
    "#directors guild from 1948\n",
    "dga = pd.read_csv('./data/scraping_results/dgas.csv')\n",
    "#screen actors guild from 1995\n",
    "sag = pd.read_csv('./data/scraping_results/sag_ensemble.csv')\n",
    "# cannes from 1946\n",
    "cannes = pd.read_csv('./data/scraping_results/cannes.csv')"
   ]
  },
  {
   "cell_type": "code",
   "execution_count": 3,
   "metadata": {},
   "outputs": [
    {
     "data": {
      "text/html": [
       "<div>\n",
       "<style scoped>\n",
       "    .dataframe tbody tr th:only-of-type {\n",
       "        vertical-align: middle;\n",
       "    }\n",
       "\n",
       "    .dataframe tbody tr th {\n",
       "        vertical-align: top;\n",
       "    }\n",
       "\n",
       "    .dataframe thead th {\n",
       "        text-align: right;\n",
       "    }\n",
       "</style>\n",
       "<table border=\"1\" class=\"dataframe\">\n",
       "  <thead>\n",
       "    <tr style=\"text-align: right;\">\n",
       "      <th></th>\n",
       "      <th>year</th>\n",
       "      <th>film</th>\n",
       "      <th>wiki</th>\n",
       "      <th>winner</th>\n",
       "    </tr>\n",
       "  </thead>\n",
       "  <tbody>\n",
       "    <tr>\n",
       "      <th>0</th>\n",
       "      <td>1946</td>\n",
       "      <td>Brief Encounter</td>\n",
       "      <td>/wiki/Brief_Encounter</td>\n",
       "      <td>True</td>\n",
       "    </tr>\n",
       "    <tr>\n",
       "      <th>1</th>\n",
       "      <td>1946</td>\n",
       "      <td>The Last Chance (1945 film)</td>\n",
       "      <td>/wiki/The_Last_Chance_(1945_film)</td>\n",
       "      <td>True</td>\n",
       "    </tr>\n",
       "    <tr>\n",
       "      <th>2</th>\n",
       "      <td>1946</td>\n",
       "      <td>The Lost Weekend (film)</td>\n",
       "      <td>/wiki/The_Lost_Weekend_(film)</td>\n",
       "      <td>True</td>\n",
       "    </tr>\n",
       "    <tr>\n",
       "      <th>3</th>\n",
       "      <td>1946</td>\n",
       "      <td>María Candelaria</td>\n",
       "      <td>/wiki/Mar%C3%ADa_Candelaria</td>\n",
       "      <td>True</td>\n",
       "    </tr>\n",
       "    <tr>\n",
       "      <th>4</th>\n",
       "      <td>1946</td>\n",
       "      <td>Men Without Wings</td>\n",
       "      <td>/wiki/Men_Without_Wings</td>\n",
       "      <td>True</td>\n",
       "    </tr>\n",
       "    <tr>\n",
       "      <th>...</th>\n",
       "      <td>...</td>\n",
       "      <td>...</td>\n",
       "      <td>...</td>\n",
       "      <td>...</td>\n",
       "    </tr>\n",
       "    <tr>\n",
       "      <th>97</th>\n",
       "      <td>2018</td>\n",
       "      <td>Shoplifters (film)</td>\n",
       "      <td>/wiki/Shoplifters_(film)</td>\n",
       "      <td>True</td>\n",
       "    </tr>\n",
       "    <tr>\n",
       "      <th>98</th>\n",
       "      <td>2019</td>\n",
       "      <td>Parasite (2019 film)</td>\n",
       "      <td>/wiki/Parasite_(2019_film)</td>\n",
       "      <td>True</td>\n",
       "    </tr>\n",
       "    <tr>\n",
       "      <th>99</th>\n",
       "      <td>2020</td>\n",
       "      <td>COVID-19 pandemic</td>\n",
       "      <td>/wiki/COVID-19_pandemic</td>\n",
       "      <td>True</td>\n",
       "    </tr>\n",
       "    <tr>\n",
       "      <th>100</th>\n",
       "      <td>2021</td>\n",
       "      <td>Titane (film)</td>\n",
       "      <td>/wiki/Titane_(film)</td>\n",
       "      <td>True</td>\n",
       "    </tr>\n",
       "    <tr>\n",
       "      <th>101</th>\n",
       "      <td>2022</td>\n",
       "      <td>Triangle of Sadness</td>\n",
       "      <td>/wiki/Triangle_of_Sadness</td>\n",
       "      <td>True</td>\n",
       "    </tr>\n",
       "  </tbody>\n",
       "</table>\n",
       "<p>102 rows × 4 columns</p>\n",
       "</div>"
      ],
      "text/plain": [
       "     year                         film                               wiki  \\\n",
       "0    1946              Brief Encounter              /wiki/Brief_Encounter   \n",
       "1    1946  The Last Chance (1945 film)  /wiki/The_Last_Chance_(1945_film)   \n",
       "2    1946      The Lost Weekend (film)      /wiki/The_Lost_Weekend_(film)   \n",
       "3    1946             María Candelaria        /wiki/Mar%C3%ADa_Candelaria   \n",
       "4    1946            Men Without Wings            /wiki/Men_Without_Wings   \n",
       "..    ...                          ...                                ...   \n",
       "97   2018           Shoplifters (film)           /wiki/Shoplifters_(film)   \n",
       "98   2019         Parasite (2019 film)         /wiki/Parasite_(2019_film)   \n",
       "99   2020            COVID-19 pandemic            /wiki/COVID-19_pandemic   \n",
       "100  2021                Titane (film)                /wiki/Titane_(film)   \n",
       "101  2022          Triangle of Sadness          /wiki/Triangle_of_Sadness   \n",
       "\n",
       "     winner  \n",
       "0      True  \n",
       "1      True  \n",
       "2      True  \n",
       "3      True  \n",
       "4      True  \n",
       "..      ...  \n",
       "97     True  \n",
       "98     True  \n",
       "99     True  \n",
       "100    True  \n",
       "101    True  \n",
       "\n",
       "[102 rows x 4 columns]"
      ]
     },
     "execution_count": 3,
     "metadata": {},
     "output_type": "execute_result"
    }
   ],
   "source": [
    "cannes"
   ]
  },
  {
   "attachments": {},
   "cell_type": "markdown",
   "metadata": {},
   "source": [
    "# Join on Nominations"
   ]
  },
  {
   "cell_type": "code",
   "execution_count": 4,
   "metadata": {},
   "outputs": [],
   "source": [
    "# I use this order and manually fill in the nominations for this year\n",
    "noms_merge = noms[['film','nominations']].drop_duplicates()\n",
    "osc_scrape = pd.merge(osc_scrape, noms_merge, on = 'film', how = 'left')\n",
    "osc_to_avg = osc_scrape.copy()\n",
    "avg_noms = int(osc_to_avg.loc[(~osc_to_avg['nominations'].isna())]['nominations'].mean())\n",
    "osc_scrape.loc[(osc_scrape['nominations'].isna()), 'nominations'] = avg_noms"
   ]
  },
  {
   "attachments": {},
   "cell_type": "markdown",
   "metadata": {},
   "source": [
    "## Join on the other awards shows"
   ]
  },
  {
   "cell_type": "code",
   "execution_count": 5,
   "metadata": {},
   "outputs": [],
   "source": [
    "def table_assemble(main_df, to_add_df, show_name):\n",
    "    \"\"\"\n",
    "    Given an awards show scraped from Wikipedia, this function\n",
    "    Adds it as a feature as a 0/1 flag if it was\n",
    "    Nominated for that Award and if it won\n",
    "    \"\"\"\n",
    "    nom_col = str('nom_') + show_name\n",
    "    win_col = str('winner_') + show_name\n",
    "    # Initalize Columns as no\n",
    "    main_df[nom_col] = 0\n",
    "    main_df[win_col] = 0\n",
    "    to_add_df.columns = ['year','film','wiki','winner_add']\n",
    "    main_df = pd.merge(main_df, to_add_df[['film','winner_add']], on = 'film', how = 'left')\n",
    "    main_df.loc[(~main_df['winner_add'].isna()), nom_col] = 1\n",
    "    main_df.loc[(main_df['winner_add'] == True), win_col] = 1\n",
    "    main_df = main_df.drop('winner_add', axis = 1)\n",
    "    return main_df\n"
   ]
  },
  {
   "cell_type": "code",
   "execution_count": 6,
   "metadata": {},
   "outputs": [],
   "source": [
    "# Adding a response columns\n",
    "osc_scrape['Oscar_win'] = 0\n",
    "osc_scrape.loc[(osc_scrape['winner'] == True), 'Oscar_win'] = 1"
   ]
  },
  {
   "cell_type": "code",
   "execution_count": 7,
   "metadata": {},
   "outputs": [],
   "source": [
    "# Adding on the results of each festival\n",
    "scraped_dfs = [gg_drama, gg_comedy, pga, bafta, dga, sag, cannes]\n",
    "scraped_names = ['gg_drama','gg_comedy','pga', 'bafta', 'dga', 'sag', 'cannes']\n",
    "\n",
    "for i in range(len(scraped_dfs)):\n",
    "    osc_scrape = table_assemble(osc_scrape, scraped_dfs[i], scraped_names[i])"
   ]
  },
  {
   "cell_type": "code",
   "execution_count": 8,
   "metadata": {},
   "outputs": [
    {
     "name": "stdout",
     "output_type": "stream",
     "text": [
      "gg_drama 1943\n",
      "gg_comedy 1951\n",
      "pga 1989\n",
      "bafta 1960\n",
      "dga 1948\n",
      "sag 1995\n",
      "cannes 1946\n"
     ]
    }
   ],
   "source": [
    "# Some awards didn't exist until certain years\n",
    "for i in range(len(scraped_dfs)):\n",
    "    print(scraped_names[i], scraped_dfs[i].year.min())"
   ]
  },
  {
   "cell_type": "code",
   "execution_count": 9,
   "metadata": {},
   "outputs": [],
   "source": [
    "# Saving the data\n",
    "osc_scrape.to_csv('./data/processed_results/osc_df')"
   ]
  },
  {
   "attachments": {},
   "cell_type": "markdown",
   "metadata": {},
   "source": [
    "# Results\n",
    "The DataFrame is now Machine Learning ready, with 0's and 1's as markers for how a given Oscar-Nominated Film did for that Awards show. The response column will be Oscar_win. An example of this final DataFrame can be seen below."
   ]
  },
  {
   "cell_type": "code",
   "execution_count": 17,
   "metadata": {},
   "outputs": [
    {
     "data": {
      "text/html": [
       "<div>\n",
       "<style scoped>\n",
       "    .dataframe tbody tr th:only-of-type {\n",
       "        vertical-align: middle;\n",
       "    }\n",
       "\n",
       "    .dataframe tbody tr th {\n",
       "        vertical-align: top;\n",
       "    }\n",
       "\n",
       "    .dataframe thead th {\n",
       "        text-align: right;\n",
       "    }\n",
       "</style>\n",
       "<table border=\"1\" class=\"dataframe\">\n",
       "  <thead>\n",
       "    <tr style=\"text-align: right;\">\n",
       "      <th></th>\n",
       "      <th>year</th>\n",
       "      <th>film</th>\n",
       "      <th>nominations</th>\n",
       "      <th>Oscar_win</th>\n",
       "      <th>nom_gg_drama</th>\n",
       "      <th>winner_gg_drama</th>\n",
       "      <th>nom_gg_comedy</th>\n",
       "      <th>winner_gg_comedy</th>\n",
       "      <th>nom_pga</th>\n",
       "      <th>winner_pga</th>\n",
       "      <th>nom_bafta</th>\n",
       "      <th>winner_bafta</th>\n",
       "      <th>nom_dga</th>\n",
       "      <th>winner_dga</th>\n",
       "      <th>nom_sag</th>\n",
       "      <th>winner_sag</th>\n",
       "      <th>nom_cannes</th>\n",
       "      <th>winner_cannes</th>\n",
       "    </tr>\n",
       "  </thead>\n",
       "  <tbody>\n",
       "    <tr>\n",
       "      <th>410</th>\n",
       "      <td>1998</td>\n",
       "      <td>Shakespeare in Love</td>\n",
       "      <td>13.0</td>\n",
       "      <td>1</td>\n",
       "      <td>0</td>\n",
       "      <td>0</td>\n",
       "      <td>1</td>\n",
       "      <td>1</td>\n",
       "      <td>1</td>\n",
       "      <td>0</td>\n",
       "      <td>1</td>\n",
       "      <td>1</td>\n",
       "      <td>1</td>\n",
       "      <td>0</td>\n",
       "      <td>1</td>\n",
       "      <td>1</td>\n",
       "      <td>0</td>\n",
       "      <td>0</td>\n",
       "    </tr>\n",
       "    <tr>\n",
       "      <th>24</th>\n",
       "      <td>1931</td>\n",
       "      <td>Shanghai Express</td>\n",
       "      <td>7.0</td>\n",
       "      <td>0</td>\n",
       "      <td>0</td>\n",
       "      <td>0</td>\n",
       "      <td>0</td>\n",
       "      <td>0</td>\n",
       "      <td>0</td>\n",
       "      <td>0</td>\n",
       "      <td>0</td>\n",
       "      <td>0</td>\n",
       "      <td>0</td>\n",
       "      <td>0</td>\n",
       "      <td>0</td>\n",
       "      <td>0</td>\n",
       "      <td>0</td>\n",
       "      <td>0</td>\n",
       "    </tr>\n",
       "    <tr>\n",
       "      <th>413</th>\n",
       "      <td>1998</td>\n",
       "      <td>Saving Private Ryan</td>\n",
       "      <td>11.0</td>\n",
       "      <td>0</td>\n",
       "      <td>1</td>\n",
       "      <td>1</td>\n",
       "      <td>0</td>\n",
       "      <td>0</td>\n",
       "      <td>1</td>\n",
       "      <td>1</td>\n",
       "      <td>1</td>\n",
       "      <td>0</td>\n",
       "      <td>1</td>\n",
       "      <td>1</td>\n",
       "      <td>1</td>\n",
       "      <td>0</td>\n",
       "      <td>0</td>\n",
       "      <td>0</td>\n",
       "    </tr>\n",
       "    <tr>\n",
       "      <th>120</th>\n",
       "      <td>1942</td>\n",
       "      <td>Mrs. Miniver</td>\n",
       "      <td>12.0</td>\n",
       "      <td>1</td>\n",
       "      <td>0</td>\n",
       "      <td>0</td>\n",
       "      <td>0</td>\n",
       "      <td>0</td>\n",
       "      <td>0</td>\n",
       "      <td>0</td>\n",
       "      <td>0</td>\n",
       "      <td>0</td>\n",
       "      <td>0</td>\n",
       "      <td>0</td>\n",
       "      <td>0</td>\n",
       "      <td>0</td>\n",
       "      <td>0</td>\n",
       "      <td>0</td>\n",
       "    </tr>\n",
       "    <tr>\n",
       "      <th>108</th>\n",
       "      <td>1940</td>\n",
       "      <td>Our Town</td>\n",
       "      <td>7.0</td>\n",
       "      <td>0</td>\n",
       "      <td>0</td>\n",
       "      <td>0</td>\n",
       "      <td>0</td>\n",
       "      <td>0</td>\n",
       "      <td>0</td>\n",
       "      <td>0</td>\n",
       "      <td>0</td>\n",
       "      <td>0</td>\n",
       "      <td>0</td>\n",
       "      <td>0</td>\n",
       "      <td>0</td>\n",
       "      <td>0</td>\n",
       "      <td>0</td>\n",
       "      <td>0</td>\n",
       "    </tr>\n",
       "  </tbody>\n",
       "</table>\n",
       "</div>"
      ],
      "text/plain": [
       "     year                 film  nominations  Oscar_win  nom_gg_drama  \\\n",
       "410  1998  Shakespeare in Love         13.0          1             0   \n",
       "24   1931    Shanghai Express           7.0          0             0   \n",
       "413  1998  Saving Private Ryan         11.0          0             1   \n",
       "120  1942         Mrs. Miniver         12.0          1             0   \n",
       "108  1940            Our Town           7.0          0             0   \n",
       "\n",
       "     winner_gg_drama  nom_gg_comedy  winner_gg_comedy  nom_pga  winner_pga  \\\n",
       "410                0              1                 1        1           0   \n",
       "24                 0              0                 0        0           0   \n",
       "413                1              0                 0        1           1   \n",
       "120                0              0                 0        0           0   \n",
       "108                0              0                 0        0           0   \n",
       "\n",
       "     nom_bafta  winner_bafta  nom_dga  winner_dga  nom_sag  winner_sag  \\\n",
       "410          1             1        1           0        1           1   \n",
       "24           0             0        0           0        0           0   \n",
       "413          1             0        1           1        1           0   \n",
       "120          0             0        0           0        0           0   \n",
       "108          0             0        0           0        0           0   \n",
       "\n",
       "     nom_cannes  winner_cannes  \n",
       "410           0              0  \n",
       "24            0              0  \n",
       "413           0              0  \n",
       "120           0              0  \n",
       "108           0              0  "
      ]
     },
     "execution_count": 17,
     "metadata": {},
     "output_type": "execute_result"
    }
   ],
   "source": [
    "cols = list(osc_scrape.columns)\n",
    "display_cols = cols[0:2] + cols[4:]\n",
    "osc_scrape[display_cols].sample(5)"
   ]
  },
  {
   "cell_type": "code",
   "execution_count": 11,
   "metadata": {},
   "outputs": [
    {
     "data": {
      "text/plain": [
       "591"
      ]
     },
     "execution_count": 11,
     "metadata": {},
     "output_type": "execute_result"
    }
   ],
   "source": [
    "len(osc_scrape)"
   ]
  },
  {
   "cell_type": "code",
   "execution_count": 18,
   "metadata": {},
   "outputs": [
    {
     "data": {
      "text/plain": [
       "['year',\n",
       " 'film',\n",
       " 'nominations',\n",
       " 'Oscar_win',\n",
       " 'nom_gg_drama',\n",
       " 'winner_gg_drama',\n",
       " 'nom_gg_comedy',\n",
       " 'winner_gg_comedy',\n",
       " 'nom_pga',\n",
       " 'winner_pga',\n",
       " 'nom_bafta',\n",
       " 'winner_bafta',\n",
       " 'nom_dga',\n",
       " 'winner_dga',\n",
       " 'nom_sag',\n",
       " 'winner_sag',\n",
       " 'nom_cannes',\n",
       " 'winner_cannes']"
      ]
     },
     "execution_count": 18,
     "metadata": {},
     "output_type": "execute_result"
    }
   ],
   "source": [
    "display_cols"
   ]
  }
 ],
 "metadata": {
  "kernelspec": {
   "display_name": "Python 3",
   "language": "python",
   "name": "python3"
  },
  "language_info": {
   "codemirror_mode": {
    "name": "ipython",
    "version": 3
   },
   "file_extension": ".py",
   "mimetype": "text/x-python",
   "name": "python",
   "nbconvert_exporter": "python",
   "pygments_lexer": "ipython3",
   "version": "3.9.2"
  }
 },
 "nbformat": 4,
 "nbformat_minor": 2
}
